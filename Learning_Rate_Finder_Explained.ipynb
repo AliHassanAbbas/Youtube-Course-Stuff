{
  "nbformat": 4,
  "nbformat_minor": 0,
  "metadata": {
    "colab": {
      "provenance": [],
      "gpuType": "T4"
    },
    "kernelspec": {
      "name": "python3",
      "display_name": "Python 3"
    },
    "language_info": {
      "name": "python"
    },
    "accelerator": "GPU"
  },
  "cells": [
    {
      "cell_type": "markdown",
      "source": [
        "# **Learning Rate Finder Explained| How to Choose the Best Learning Rate in PyTorch**"
      ],
      "metadata": {
        "id": "aeWwuMab_NlJ"
      }
    },
    {
      "cell_type": "markdown",
      "source": [
        "**Exponential Learning Rate Schedule**"
      ],
      "metadata": {
        "id": "QtprpME6_PIL"
      }
    },
    {
      "cell_type": "code",
      "source": [
        "import torch\n",
        "import torch.nn as nn\n",
        "import torch.optim as optim\n",
        "from torch.optim.lr_scheduler import _LRScheduler\n",
        "import matplotlib.pyplot as plt\n",
        "import torchvision\n",
        "from torch.utils.data import DataLoader\n",
        "import torchvision.transforms as transforms"
      ],
      "metadata": {
        "id": "z1qmhSyy_gOL"
      },
      "execution_count": null,
      "outputs": []
    },
    {
      "cell_type": "code",
      "source": [
        "transform=transforms.ToTensor()\n",
        "train_data=torchvision.datasets.MNIST(root=\"./data\",train=True,download=True,transform=transform)\n",
        "train_data"
      ],
      "metadata": {
        "id": "4yRiSGHm_gKA",
        "colab": {
          "base_uri": "https://localhost:8080/"
        },
        "outputId": "5210b654-7e20-4f2a-c636-9ddae2a4c80d"
      },
      "execution_count": null,
      "outputs": [
        {
          "output_type": "execute_result",
          "data": {
            "text/plain": [
              "Dataset MNIST\n",
              "    Number of datapoints: 60000\n",
              "    Root location: ./data\n",
              "    Split: Train\n",
              "    StandardTransform\n",
              "Transform: ToTensor()"
            ]
          },
          "metadata": {},
          "execution_count": 20
        }
      ]
    },
    {
      "cell_type": "code",
      "source": [
        "train_iterator=DataLoader(train_data,batch_size=64,shuffle=True)"
      ],
      "metadata": {
        "id": "vpcyzi0b_gHX"
      },
      "execution_count": null,
      "outputs": []
    },
    {
      "cell_type": "code",
      "source": [
        "len(train_iterator)"
      ],
      "metadata": {
        "id": "gJAIfyC-_gFG",
        "colab": {
          "base_uri": "https://localhost:8080/"
        },
        "outputId": "e34687bf-30ae-42f2-d506-260345ed3c55"
      },
      "execution_count": null,
      "outputs": [
        {
          "output_type": "execute_result",
          "data": {
            "text/plain": [
              "938"
            ]
          },
          "metadata": {},
          "execution_count": 22
        }
      ]
    },
    {
      "cell_type": "code",
      "source": [
        "class SmallCNN(nn.Module):\n",
        "  def __init__(self):\n",
        "    super().__init__()\n",
        "    self.conv1=nn.Conv2d(1,16,kernel_size=3,padding=1)\n",
        "    self.relu=nn.ReLU()\n",
        "    self.pool=nn.MaxPool2d(2,2)\n",
        "    self.fc1=nn.Linear(16*14*14,10)\n",
        "  def forward(self,x):\n",
        "    x=self.pool(self.relu(self.conv1(x)))\n",
        "    x=x.view(x.size(0),-1)\n",
        "    out=self.fc1(x)\n",
        "    return  out, x\n"
      ],
      "metadata": {
        "id": "rT4Xdn7T_gC_"
      },
      "execution_count": null,
      "outputs": []
    },
    {
      "cell_type": "code",
      "source": [
        "model=SmallCNN()"
      ],
      "metadata": {
        "id": "LP15faRr_gAr"
      },
      "execution_count": null,
      "outputs": []
    },
    {
      "cell_type": "markdown",
      "source": [
        "![image.png](data:image/png;base64,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)"
      ],
      "metadata": {
        "id": "0v_hIcs03fyc"
      }
    },
    {
      "cell_type": "code",
      "source": [
        "class LRFinder:\n",
        "    def __init__(self, model, optimizer, criterion, device):\n",
        "\n",
        "        self.optimizer = optimizer\n",
        "        self.model = model\n",
        "        self.criterion = criterion\n",
        "        self.device = device\n",
        "        torch.save(model.state_dict(), 'init_params.pt')\n",
        "\n",
        "    def range_test(self, iterator, end_lr=10, num_iter=100,\n",
        "                   smooth_f=0.05, diverge_th=5):\n",
        "\n",
        "        lrs = []\n",
        "        losses = []\n",
        "        best_loss = float('inf')\n",
        "        lr_scheduler = ExponentialLR(self.optimizer, end_lr, num_iter)\n",
        "        iterator = IteratorWrapper(iterator)\n",
        "        for iteration in range(num_iter):\n",
        "            loss = self._train_batch(iterator)\n",
        "            lrs.append(lr_scheduler.get_last_lr()[0])\n",
        "            lr_scheduler.step()\n",
        "            if iteration > 0:\n",
        "                loss = smooth_f * loss + (1 - smooth_f) * losses[-1]\n",
        "            if loss < best_loss:\n",
        "                best_loss = loss\n",
        "            losses.append(loss)\n",
        "            if loss > diverge_th * best_loss:\n",
        "                print(\"Stopping early, the loss has diverged\")\n",
        "                break\n",
        "\n",
        "        model.load_state_dict(torch.load('init_params.pt'))\n",
        "        return lrs, losses\n",
        "\n",
        "    def _train_batch(self, iterator):\n",
        "\n",
        "        self.model.train()\n",
        "\n",
        "        self.optimizer.zero_grad()\n",
        "        x, y = iterator.get_batch()\n",
        "        x = x.to(self.device)\n",
        "        y = y.to(self.device)\n",
        "        y_pred, _ = self.model(x)\n",
        "        loss = self.criterion(y_pred, y)\n",
        "        loss.backward()\n",
        "        self.optimizer.step()\n",
        "        return loss.item()\n",
        "\n",
        "\n",
        "class ExponentialLR(_LRScheduler):\n",
        "    def __init__(self, optimizer, end_lr, num_iter, last_epoch=-1):\n",
        "\n",
        "        self.end_lr = end_lr\n",
        "        self.num_iter = num_iter\n",
        "        super(ExponentialLR, self).__init__(optimizer, last_epoch)\n",
        "\n",
        "    def get_lr(self):\n",
        "        curr_iter = self.last_epoch\n",
        "        r = curr_iter / self.num_iter\n",
        "        return [base_lr * (self.end_lr / base_lr) ** r\n",
        "                for base_lr in self.base_lrs]\n",
        "\n",
        "\n",
        "class IteratorWrapper:\n",
        "    def __init__(self, iterator):\n",
        "        self.iterator = iterator\n",
        "        self._iterator = iter(iterator)\n",
        "\n",
        "    def __next__(self):\n",
        "        try:\n",
        "            inputs, labels = next(self._iterator)\n",
        "        except StopIteration:\n",
        "            self._iterator = iter(self.iterator)\n",
        "            inputs, labels, *_ = next(self._iterator)\n",
        "\n",
        "        return inputs, labels\n",
        "\n",
        "    def get_batch(self):\n",
        "        return next(self)"
      ],
      "metadata": {
        "id": "bh8XcY73_f-m"
      },
      "execution_count": null,
      "outputs": []
    },
    {
      "cell_type": "markdown",
      "source": [
        "![image.png](data:image/png;base64,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)"
      ],
      "metadata": {
        "id": "Iw1070nL_goq"
      }
    },
    {
      "cell_type": "code",
      "source": [
        "START_LR=1e-7\n",
        "END_LR=10\n",
        "NUM_ITER=100\n",
        "optimizer=optim.Adam(model.parameters(),lr=START_LR)\n",
        "criterion=nn.CrossEntropyLoss()\n",
        "device=torch.device('cuda' if torch.cuda.is_available() else 'cpu')\n",
        "\n",
        "model=model.to(device)\n",
        "criterion=criterion.to(device)"
      ],
      "metadata": {
        "id": "ObdZK3KS_f8E"
      },
      "execution_count": null,
      "outputs": []
    },
    {
      "cell_type": "code",
      "source": [
        "lr_finder=LRFinder(model,optimizer,criterion,device)"
      ],
      "metadata": {
        "id": "NbyfMwIj_f3k"
      },
      "execution_count": null,
      "outputs": []
    },
    {
      "cell_type": "code",
      "source": [
        "lrs,losses=lr_finder.range_test(train_iterator,END_LR,NUM_ITER)"
      ],
      "metadata": {
        "id": "h_058ps__f1K"
      },
      "execution_count": null,
      "outputs": []
    },
    {
      "cell_type": "code",
      "source": [
        "def plot_lr_finder(lrs,losses,skip_start=5,skip_end=5):\n",
        "  if skip_end == 0:\n",
        "    lrs=lrs[skip_start:]\n",
        "    losses=losses[skip_start:]\n",
        "  else:\n",
        "    lrs=lrs[skip_start:-skip_start]\n",
        "    losses=losses[skip_start:-skip_end]\n",
        "  fig=plt.figure(figsize=(16,8))\n",
        "  ax=fig.add_subplot(1,1,1)\n",
        "  ax.plot(lrs,losses)\n",
        "  ax.set_xscale('log')\n",
        "  ax.set_xlabel('learning rate')\n",
        "  ax.set_ylabel('loss')\n",
        "  ax.grid(True,'both','x')\n",
        "  plt.show()\n"
      ],
      "metadata": {
        "id": "xcmn1STH_fy0"
      },
      "execution_count": null,
      "outputs": []
    },
    {
      "cell_type": "code",
      "source": [
        "len(lrs)"
      ],
      "metadata": {
        "colab": {
          "base_uri": "https://localhost:8080/"
        },
        "id": "D4sYuK5WA2C2",
        "outputId": "d26f2671-b9bd-4664-855c-8e2de3fc77c3"
      },
      "execution_count": null,
      "outputs": [
        {
          "output_type": "execute_result",
          "data": {
            "text/plain": [
              "100"
            ]
          },
          "metadata": {},
          "execution_count": 37
        }
      ]
    },
    {
      "cell_type": "code",
      "source": [
        "lrs"
      ],
      "metadata": {
        "colab": {
          "base_uri": "https://localhost:8080/"
        },
        "id": "5rOejdCSBGFB",
        "outputId": "fd1745ca-2d5f-4b21-82ed-c1a13721193a"
      },
      "execution_count": null,
      "outputs": [
        {
          "output_type": "execute_result",
          "data": {
            "text/plain": [
              "[1e-07,\n",
              " 1.202264434617413e-07,\n",
              " 1.4454397707459274e-07,\n",
              " 1.7378008287493754e-07,\n",
              " 2.0892961308540395e-07,\n",
              " 2.51188643150958e-07,\n",
              " 3.019951720402016e-07,\n",
              " 3.6307805477010137e-07,\n",
              " 4.36515832240166e-07,\n",
              " 5.248074602497725e-07,\n",
              " 6.309573444801933e-07,\n",
              " 7.585775750291837e-07,\n",
              " 9.120108393559096e-07,\n",
              " 1.096478196143185e-06,\n",
              " 1.3182567385564074e-06,\n",
              " 1.5848931924611132e-06,\n",
              " 1.9054607179632473e-06,\n",
              " 2.2908676527677735e-06,\n",
              " 2.754228703338166e-06,\n",
              " 3.311311214825911e-06,\n",
              " 3.981071705534973e-06,\n",
              " 4.7863009232263826e-06,\n",
              " 5.754399373371569e-06,\n",
              " 6.918309709189365e-06,\n",
              " 8.317637711026708e-06,\n",
              " 9.999999999999999e-06,\n",
              " 1.202264434617413e-05,\n",
              " 1.4454397707459279e-05,\n",
              " 1.737800828749376e-05,\n",
              " 2.0892961308540385e-05,\n",
              " 2.5118864315095795e-05,\n",
              " 3.019951720402016e-05,\n",
              " 3.630780547701014e-05,\n",
              " 4.365158322401661e-05,\n",
              " 5.248074602497728e-05,\n",
              " 6.309573444801929e-05,\n",
              " 7.585775750291836e-05,\n",
              " 9.120108393559096e-05,\n",
              " 0.00010964781961431851,\n",
              " 0.00013182567385564074,\n",
              " 0.0001584893192461114,\n",
              " 0.00019054607179632462,\n",
              " 0.00022908676527677726,\n",
              " 0.0002754228703338166,\n",
              " 0.0003311311214825911,\n",
              " 0.0003981071705534973,\n",
              " 0.0004786300923226385,\n",
              " 0.0005754399373371565,\n",
              " 0.0006918309709189362,\n",
              " 0.0008317637711026709,\n",
              " 0.001,\n",
              " 0.001202264434617413,\n",
              " 0.001445439770745928,\n",
              " 0.001737800828749376,\n",
              " 0.0020892961308540407,\n",
              " 0.002511886431509582,\n",
              " 0.0030199517204020187,\n",
              " 0.00363078054770101,\n",
              " 0.004365158322401656,\n",
              " 0.005248074602497722,\n",
              " 0.006309573444801929,\n",
              " 0.007585775750291836,\n",
              " 0.009120108393559097,\n",
              " 0.01096478196143185,\n",
              " 0.013182567385564075,\n",
              " 0.01584893192461114,\n",
              " 0.019054607179632484,\n",
              " 0.022908676527677745,\n",
              " 0.027542287033381692,\n",
              " 0.03311311214825908,\n",
              " 0.03981071705534969,\n",
              " 0.0478630092322638,\n",
              " 0.05754399373371566,\n",
              " 0.06918309709189363,\n",
              " 0.08317637711026708,\n",
              " 0.09999999999999999,\n",
              " 0.12022644346174131,\n",
              " 0.1445439770745928,\n",
              " 0.17378008287493762,\n",
              " 0.2089296130854041,\n",
              " 0.25118864315095824,\n",
              " 0.3019951720402019,\n",
              " 0.36307805477010097,\n",
              " 0.43651583224016566,\n",
              " 0.5248074602497723,\n",
              " 0.630957344480193,\n",
              " 0.7585775750291835,\n",
              " 0.9120108393559095,\n",
              " 1.096478196143185,\n",
              " 1.3182567385564072,\n",
              " 1.584893192461114,\n",
              " 1.9054607179632481,\n",
              " 2.290867652767775,\n",
              " 2.754228703338169,\n",
              " 3.3113112148259076,\n",
              " 3.981071705534969,\n",
              " 4.7863009232263805,\n",
              " 5.754399373371567,\n",
              " 6.918309709189362,\n",
              " 8.317637711026709]"
            ]
          },
          "metadata": {},
          "execution_count": 40
        }
      ]
    },
    {
      "cell_type": "code",
      "source": [
        "len(losses)"
      ],
      "metadata": {
        "colab": {
          "base_uri": "https://localhost:8080/"
        },
        "id": "yo7H6YIiA7ik",
        "outputId": "b1dbb21c-8615-45ad-9cd6-7db9230cc10c"
      },
      "execution_count": null,
      "outputs": [
        {
          "output_type": "execute_result",
          "data": {
            "text/plain": [
              "100"
            ]
          },
          "metadata": {},
          "execution_count": 38
        }
      ]
    },
    {
      "cell_type": "code",
      "source": [
        "plot_lr_finder(lrs,losses)"
      ],
      "metadata": {
        "id": "CfqJ4Qfa_fwb",
        "colab": {
          "base_uri": "https://localhost:8080/",
          "height": 553
        },
        "outputId": "53b5de46-ce14-4625-9f7c-003a23873567"
      },
      "execution_count": null,
      "outputs": [
        {
          "output_type": "display_data",
          "data": {
            "text/plain": [
              "<Figure size 1600x800 with 1 Axes>"
            ],
            "image/png": "[encoded data removed]"
          },
          "metadata": {}
        }
      ]
    },
    {
      "cell_type": "code",
      "execution_count": null,
      "metadata": {
        "id": "_mrzX2cE_I0b"
      },
      "outputs": [],
      "source": []
    }
  ]
}